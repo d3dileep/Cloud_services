{
  "nbformat": 4,
  "nbformat_minor": 0,
  "metadata": {
    "colab": {
      "name": "gcp_unzip_in_storage.ipynb",
      "provenance": [],
      "authorship_tag": "ABX9TyMTEOEIwZwmpqYEy27ImnfM"
    },
    "kernelspec": {
      "name": "python3",
      "display_name": "Python 3"
    },
    "language_info": {
      "name": "python"
    }
  },
  "cells": [
    {
      "cell_type": "code",
      "execution_count": null,
      "metadata": {
        "id": "Dy1paW6v0WoE"
      },
      "outputs": [],
      "source": [
        "from google.cloud import storage\n",
        "from zipfile import ZipFile\n",
        "from zipfile import is_zipfile\n",
        "import io\n",
        "\n",
        "def zipextract(bucketname, zipfilename_with_path):\n",
        "\n",
        "    storage_client = storage.Client()\n",
        "    bucket = storage_client.get_bucket(bucketname)\n",
        "\n",
        "    destination_blob_pathname = zipfilename_with_path\n",
        "    \n",
        "    blob = bucket.blob(destination_blob_pathname)\n",
        "    zipbytes = io.BytesIO(blob.download_as_string())\n",
        "\n",
        "    if is_zipfile(zipbytes):\n",
        "        with ZipFile(zipbytes, 'r') as myzip:\n",
        "            for contentfilename in myzip.namelist():\n",
        "                contentfile = myzip.read(contentfilename)\n",
        "                blob = bucket.blob(zipfilename_with_path + \"/\" + contentfilename)\n",
        "                blob.upload_from_string(contentfile)\n",
        "\n",
        "zipextract(\"mybucket\", \"path/file.zip\") # if the file is gs://mybucket/path/file.zip"
      ]
    }
  ]
}