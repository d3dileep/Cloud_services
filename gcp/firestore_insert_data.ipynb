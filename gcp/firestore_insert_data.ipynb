{
 "cells": [
  {
   "cell_type": "code",
   "execution_count": 61,
   "id": "1cb5fc49-5c1",
   "metadata": {},
   "outputs": [],
   "source": [
    "# !pip install firebase-admin\n",
    "import firebase_admin\n",
    "from firebase_admin import credentials, firestore\n",
    "import glob\n",
    "import json\n",
    "import traceback"
   ]
  },
  {
   "cell_type": "code",
   "execution_count": null,
   "id": "7d7746ca-43f0-474a-8249-6b11d43dfee5",
   "metadata": {},
   "outputs": [],
   "source": [
    "#Authenticate\n",
    "cred = credentials.Certificate(\"q-gcp-5777.json\")\n",
    "firebase_admin.initialize_app(cred)\n",
    "db = firestore.client()  # this connects to our Firestore database"
   ]
  },
  {
   "cell_type": "code",
   "execution_count": 62,
   "id": "3f458f15-e17a-4470-be5b-e2fcf0ede0b7",
   "metadata": {},
   "outputs": [],
   "source": [
    "def insert_data_in_firestore(collection_name,folder_name):\n",
    "    collection = db.collection(collection_name)  # opens 'silk_word_cloud' collection\n",
    "    cnt = 0\n",
    "    for filepath in glob.iglob('/home/jupyter/'+folder_name+'/*.json'):\n",
    "        try :\n",
    "            with open(filepath) as f:\n",
    "                data = json.load(f)\n",
    "            dict_res = {\"root\":data}\n",
    "            file_name = filepath.split('/')[-1].replace('.json','')\n",
    "            res = collection.document(file_name).set(dict_res)\n",
    "            cnt+=1\n",
    "        except:\n",
    "            print(traceback.format_exc())\n",
    "            \n",
    "    print(str(cnt)+\" Documnets \"+\"Done for \"+collection_name)\n"
   ]
  },
  {
   "cell_type": "code",
   "execution_count": 63,
   "id": "99d5c97d-8ccb-4d74-a2fc-e8d1fc9ea62b",
   "metadata": {},
   "outputs": [
    {
     "name": "stdout",
     "output_type": "stream",
     "text": [
      "183 Documnets Done for silk_word_cloud\n",
      "183 Documnets Done for silk_bigram\n",
      "183 Documnets Done for silk_trigram\n"
     ]
    }
   ],
   "source": [
    "collection_lst = [\"silk_word_cloud\", \"silk_bigram\", \"silk_trigram\"]\n",
    "folder_list = [\"WordCloud\",\"bigram\",\"trigram\"]\n",
    "for i in range(len(collection_lst)):\n",
    "    insert_data_in_firestore(collection_lst[i], folder_list[i])"
   ]
  },
  {
   "cell_type": "code",
   "execution_count": null,
   "id": "86e8bbc1-406a-40b3-92ad-6bcf085ff113",
   "metadata": {},
   "outputs": [],
   "source": []
  }
 ],
 "metadata": {
  "environment": {
   "kernel": "python3",
   "name": "tf2-gpu.2-6.m89",
   "type": "gcloud",
   "uri": "gcr.io/deeplearning-platform-release/tf2-gpu.2-6:m89"
  },
  "kernelspec": {
   "display_name": "Python 3",
   "language": "python",
   "name": "python3"
  },
  "language_info": {
   "codemirror_mode": {
    "name": "ipython",
    "version": 3
   },
   "file_extension": ".py",
   "mimetype": "text/x-python",
   "name": "python",
   "nbconvert_exporter": "python",
   "pygments_lexer": "ipython3",
   "version": "3.7.12"
  }
 },
 "nbformat": 4,
 "nbformat_minor": 5
}
